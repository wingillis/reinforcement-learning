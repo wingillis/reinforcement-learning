{
 "cells": [
  {
   "cell_type": "code",
   "execution_count": 31,
   "metadata": {},
   "outputs": [],
   "source": [
    "import gym\n",
    "import time\n",
    "import random\n",
    "import gym_minigrid\n",
    "import numpy as np"
   ]
  },
  {
   "cell_type": "code",
   "execution_count": 35,
   "metadata": {},
   "outputs": [],
   "source": [
    "import matplotlib.pyplot as plt \n",
    "import seaborn as sns\n",
    "\n",
    "from itertools import permutations\n",
    "from collections import defaultdict"
   ]
  },
  {
   "cell_type": "code",
   "execution_count": 4,
   "metadata": {},
   "outputs": [],
   "source": [
    "sns.set_style('white')"
   ]
  },
  {
   "cell_type": "code",
   "execution_count": 56,
   "metadata": {},
   "outputs": [],
   "source": [
    "def reset_env(env):\n",
    "  env.reset()\n",
    "  env.place_agent()\n",
    "#   env.agent_start_pos = tuple(pos)\n",
    "#   env.agent_pos = np.array(pos)\n",
    "#   if hasattr(env, 'mission'):\n",
    "#     print('Mission:', env.mission)\n",
    "  return tuple(env.agent_pos)"
   ]
  },
  {
   "cell_type": "code",
   "execution_count": null,
   "metadata": {},
   "outputs": [],
   "source": [
    "env = gym.make('MiniGrid-Empty-6x6-v0')\n",
    "env.max_steps = 1000\n",
    "actions = list(env.actions.__members__.values())[:3]\n",
    "\n",
    "starting_choices = list(permutations(range(1, 5), 2))"
   ]
  },
  {
   "cell_type": "code",
   "execution_count": 19,
   "metadata": {},
   "outputs": [
    {
     "name": "stdout",
     "output_type": "stream",
     "text": [
      "Mission: get to the green goal square\n",
      "0.7048\n",
      "done, in 327 steps\n"
     ]
    }
   ],
   "source": [
    "# initialize learning parameters\n",
    "alpha = 0.2  # learning rate\n",
    "gamma = 0.5  # discounting rate\n",
    "num_iters = 2000\n",
    "\n",
    "# initialize variables for estimating the value of each state\n",
    "returns = defaultdict(list)\n",
    "deltas = defaultdict(list)\n",
    "V = np.zeros((6, 6))\n",
    "\n",
    "# run a bunch of simulations\n",
    "for iter_ in range(num_iters):\n",
    "  reset_env(env)\n",
    "  renderer = env.render('rgb_array')\n",
    "\n",
    "  for i in range(1000):\n",
    "    action = random.choice(actions)\n",
    "    obs, reward, done, info = env.step(action)\n",
    "    pos = tuple(env.agent_pos)\n",
    "    env.render('rgb_array')\n",
    "    if done:\n",
    "      break\n",
    "    before = V[pos]\n",
    "    V[pos] += alpha * (reward + gamma * V[])\n",
    "  "
   ]
  },
  {
   "cell_type": "code",
   "execution_count": null,
   "metadata": {},
   "outputs": [],
   "source": [
    "env."
   ]
  },
  {
   "cell_type": "code",
   "execution_count": null,
   "metadata": {},
   "outputs": [],
   "source": []
  }
 ],
 "metadata": {
  "kernelspec": {
   "display_name": "Reinforcement learning",
   "language": "python",
   "name": "rl"
  },
  "language_info": {
   "codemirror_mode": {
    "name": "ipython",
    "version": 3
   },
   "file_extension": ".py",
   "mimetype": "text/x-python",
   "name": "python",
   "nbconvert_exporter": "python",
   "pygments_lexer": "ipython3",
   "version": "3.7.5"
  }
 },
 "nbformat": 4,
 "nbformat_minor": 4
}
